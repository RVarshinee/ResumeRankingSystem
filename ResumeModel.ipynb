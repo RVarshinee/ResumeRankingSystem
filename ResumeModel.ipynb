{
  "nbformat": 4,
  "nbformat_minor": 0,
  "metadata": {
    "colab": {
      "provenance": [],
      "gpuType": "T4",
      "mount_file_id": "1Sw1pArrJ94ImSmYqQ1CBYYUDNtHI0SN8",
      "authorship_tag": "ABX9TyPnBxBxLO90AgEEaowwyRqc",
      "include_colab_link": true
    },
    "kernelspec": {
      "name": "python3",
      "display_name": "Python 3"
    },
    "language_info": {
      "name": "python"
    },
    "accelerator": "GPU"
  },
  "cells": [
    {
      "cell_type": "markdown",
      "metadata": {
        "id": "view-in-github",
        "colab_type": "text"
      },
      "source": [
        "<a href=\"https://colab.research.google.com/github/RVarshinee/ResumeRankingSystem/blob/main/ResumeModel.ipynb\" target=\"_parent\"><img src=\"https://colab.research.google.com/assets/colab-badge.svg\" alt=\"Open In Colab\"/></a>"
      ]
    },
    {
      "cell_type": "code",
      "source": [
        "nlp=spacy.load('/content/drive/MyDrive/model/output/model-best')"
      ],
      "metadata": {
        "id": "qyOytNuv7pfJ"
      },
      "execution_count": null,
      "outputs": []
    },
    {
      "cell_type": "code",
      "source": [
        "!pip install PyMuPDF"
      ],
      "metadata": {
        "colab": {
          "base_uri": "https://localhost:8080/"
        },
        "id": "CQigXldSvh8H",
        "outputId": "62deca94-b0f4-414a-fb41-4814ce3a9738"
      },
      "execution_count": null,
      "outputs": [
        {
          "output_type": "stream",
          "name": "stdout",
          "text": [
            "Collecting PyMuPDF\n",
            "  Downloading PyMuPDF-1.23.3-cp310-none-manylinux2014_x86_64.whl (4.3 MB)\n",
            "\u001b[2K     \u001b[90m━━━━━━━━━━━━━━━━━━━━━━━━━━━━━━━━━━━━━━━━\u001b[0m \u001b[32m4.3/4.3 MB\u001b[0m \u001b[31m16.0 MB/s\u001b[0m eta \u001b[36m0:00:00\u001b[0m\n",
            "\u001b[?25hCollecting PyMuPDFb==1.23.3 (from PyMuPDF)\n",
            "  Downloading PyMuPDFb-1.23.3-py3-none-manylinux2014_x86_64.manylinux_2_17_x86_64.whl (30.6 MB)\n",
            "\u001b[2K     \u001b[90m━━━━━━━━━━━━━━━━━━━━━━━━━━━━━━━━━━━━━━━━\u001b[0m \u001b[32m30.6/30.6 MB\u001b[0m \u001b[31m54.1 MB/s\u001b[0m eta \u001b[36m0:00:00\u001b[0m\n",
            "\u001b[?25hInstalling collected packages: PyMuPDFb, PyMuPDF\n",
            "Successfully installed PyMuPDF-1.23.3 PyMuPDFb-1.23.3\n"
          ]
        }
      ]
    },
    {
      "cell_type": "code",
      "source": [
        "import sys,fitz\n",
        "fname='/content/drive/MyDrive/Shreya Bhandari.pdf'\n",
        "doc=fitz.open(fname)"
      ],
      "metadata": {
        "id": "VlfVYE_Tvtgm"
      },
      "execution_count": null,
      "outputs": []
    },
    {
      "cell_type": "code",
      "source": [
        "text=\" \"\n",
        "for page in doc:\n",
        "  text=text+str(page.get_text())"
      ],
      "metadata": {
        "id": "egdJ_PyYvygf"
      },
      "execution_count": null,
      "outputs": []
    },
    {
      "cell_type": "code",
      "source": [
        "doc=nlp(text)\n",
        "for ent in doc.ents:\n",
        "  print(ent.text,\"    ->>>>>>>>>>    \",ent.label_)"
      ],
      "metadata": {
        "colab": {
          "base_uri": "https://localhost:8080/"
        },
        "id": "ktnJsOquv1wG",
        "outputId": "05eaa1c5-292c-4ed2-8052-ded6c42055b5"
      },
      "execution_count": null,
      "outputs": [
        {
          "output_type": "stream",
          "name": "stdout",
          "text": [
            "www.linkedin.com/in/shreya-\n",
            "bhandari-a0094816b     ->>>>>>>>>>     LINKEDIN LINK\n",
            "Writing     ->>>>>>>>>>     SKILLS\n",
            "Python     ->>>>>>>>>>     SKILLS\n",
            "Django     ->>>>>>>>>>     SKILLS\n",
            "Nepali     ->>>>>>>>>>     LANGUAGE\n",
            "English     ->>>>>>>>>>     LANGUAGE\n",
            "Hindi     ->>>>>>>>>>     LANGUAGE\n",
            "Shreya Bhandari     ->>>>>>>>>>     NAME\n",
            "Kathmandu     ->>>>>>>>>>     LOCATION\n",
            "Danson Solutions     ->>>>>>>>>>     COMPANIES WORKED AT\n",
            "Business Analyst     ->>>>>>>>>>     WORKED AS\n",
            "4 months     ->>>>>>>>>>     YEARS OF EXPERIENCE\n",
            "Girls in Tech     ->>>>>>>>>>     COMPANIES WORKED AT\n",
            "Event Team Ambassador     ->>>>>>>>>>     WORKED AS\n",
            "4 months     ->>>>>>>>>>     YEARS OF EXPERIENCE\n",
            "Support Squad Ambassador     ->>>>>>>>>>     WORKED AS\n",
            "4 months     ->>>>>>>>>>     YEARS OF EXPERIENCE\n",
            "6 months     ->>>>>>>>>>     YEARS OF EXPERIENCE\n",
            "DansonTraining     ->>>>>>>>>>     COMPANIES WORKED AT\n",
            "1 year 2 months     ->>>>>>>>>>     YEARS OF EXPERIENCE\n",
            "Finnove Technologies     ->>>>>>>>>>     COMPANIES WORKED AT\n",
            "6 months     ->>>>>>>>>>     YEARS OF EXPERIENCE\n",
            "Associate Software Engineer     ->>>>>>>>>>     WORKED AS\n",
            "1 month     ->>>>>>>>>>     YEARS OF EXPERIENCE\n",
            "Python Developer     ->>>>>>>>>>     WORKED AS\n",
            "6 months     ->>>>>>>>>>     YEARS OF EXPERIENCE\n",
            "Danson Solutions     ->>>>>>>>>>     COMPANIES WORKED AT\n",
            "Data Science Intern     ->>>>>>>>>>     WORKED AS\n",
            "3 months     ->>>>>>>>>>     YEARS OF EXPERIENCE\n",
            "ChimpVine     ->>>>>>>>>>     COMPANIES WORKED AT\n",
            "Graphic Designer     ->>>>>>>>>>     WORKED AS\n",
            "5 months     ->>>>>>>>>>     YEARS OF EXPERIENCE\n",
            "VertexReport     ->>>>>>>>>>     COMPANIES WORKED AT\n",
            "Content Writer     ->>>>>>>>>>     WORKED AS\n",
            "1 year 1 month     ->>>>>>>>>>     YEARS OF EXPERIENCE\n",
            "Vedic Himalayan Adve     ->>>>>>>>>>     COMPANIES WORKED AT\n",
            "Content Writer     ->>>>>>>>>>     WORKED AS\n",
            "2 years 10 months     ->>>>>>>>>>     YEARS OF EXPERIENCE\n",
            "College of Information Technology     ->>>>>>>>>>     COLLEGE NAME\n",
            "Bachelor of Engineering - BE, Software engineering     ->>>>>>>>>>     DEGREE\n"
          ]
        }
      ]
    }
  ]
}